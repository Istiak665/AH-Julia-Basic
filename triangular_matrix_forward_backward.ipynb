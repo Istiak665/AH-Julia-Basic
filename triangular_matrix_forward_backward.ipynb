{
 "cells": [
  {
   "cell_type": "markdown",
   "id": "e56fef1b",
   "metadata": {},
   "source": [
    "### Practice solving triangular matrices"
   ]
  },
  {
   "cell_type": "markdown",
   "id": "2e7085dd",
   "metadata": {},
   "source": [
    "Here is a 3x3 set of linear equations that can be solved using forward substitution.\n",
    "\n",
    "$$ 2x_1  = 1 $$\n",
    "$$  3x_1 -7x_2 = -2 $$\n",
    "$$ x_1 + 3x_2 - x_3 = 8 $$\n",
    "\n",
    "First, put the equations into Ax=b form:"
   ]
  },
  {
   "cell_type": "code",
   "execution_count": 151,
   "id": "ca0c88bd",
   "metadata": {},
   "outputs": [],
   "source": [
    "x = zeros(3)\n",
    "\n",
    "# Fill A and b:\n",
    "A = [2 0 0; 3 -7 0; 1 3 -1];\n",
    "b = [1; -2; 8];"
   ]
  },
  {
   "cell_type": "code",
   "execution_count": 152,
   "id": "a3e709cb",
   "metadata": {},
   "outputs": [
    {
     "name": "stdout",
     "output_type": "stream",
     "text": [
      "x[1] = 0.5\n",
      "x[2] = 0.5\n",
      "x[3] = -6.0\n"
     ]
    },
    {
     "data": {
      "text/plain": [
       "-6.0"
      ]
     },
     "execution_count": 152,
     "metadata": {},
     "output_type": "execute_result"
    }
   ],
   "source": [
    "# Now, the system of equations can be solved using this forward substitution algorithm:\n",
    "\n",
    "x[1]=b[1]/A[1,1]\n",
    "x[2]=(b[2]-A[2,1]*x[1])/A[2,2]\n",
    "x[3]=(b[3]-A[3,1]*x[1]-A[3,2]*x[2])/A[3,3]\n",
    "\n",
    "@show x[1]\n",
    "@show x[2]\n",
    "@show x[3]"
   ]
  },
  {
   "cell_type": "code",
   "execution_count": 153,
   "id": "a28ff90a",
   "metadata": {},
   "outputs": [
    {
     "data": {
      "text/plain": [
       "0.5"
      ]
     },
     "execution_count": 153,
     "metadata": {},
     "output_type": "execute_result"
    }
   ],
   "source": [
    "# Fill A and b:\n",
    "A = [2 0 0; 3 -7 0; 1 3 -1];\n",
    "b = [1; -2; 8];\n",
    "\n",
    "n = size(A, 1)\n",
    "x = zeros(n)\n",
    "x[1] = b[1]/A[1,1]"
   ]
  },
  {
   "cell_type": "markdown",
   "id": "c72fa768",
   "metadata": {},
   "source": [
    "### Forward substitution to solve an lower-triangular linear system"
   ]
  },
  {
   "cell_type": "code",
   "execution_count": 154,
   "id": "308dca11",
   "metadata": {},
   "outputs": [
    {
     "data": {
      "text/plain": [
       "forwardsub"
      ]
     },
     "execution_count": 154,
     "metadata": {},
     "output_type": "execute_result"
    }
   ],
   "source": [
    "\"\"\"\n",
    "forwardsub(L,b)\n",
    "\n",
    "Solve the lower-triangular linear system with matrix `L` and\n",
    "right-hand side vector `b`.\n",
    "\"\"\"\n",
    "function forwardsub(L,b)\n",
    "\n",
    "n = size(L,1)\n",
    "x = zeros(n)\n",
    "x[1] = b[1]/L[1,1]\n",
    "    \n",
    "for i = 2:n\n",
    "    for j=1:i-1\n",
    "        s = sum( L[i,j]*x[j])\n",
    "            \n",
    "        x[i] = ( b[i] - s ) / L[i,i]\n",
    "            \n",
    "    end \n",
    "end\n",
    "\n",
    "return x\n",
    "end"
   ]
  },
  {
   "cell_type": "code",
   "execution_count": 155,
   "id": "4e7d94c8",
   "metadata": {},
   "outputs": [
    {
     "data": {
      "text/plain": [
       "3-element Vector{Float64}:\n",
       "  0.5\n",
       "  0.5\n",
       " -6.5"
      ]
     },
     "execution_count": 155,
     "metadata": {},
     "output_type": "execute_result"
    }
   ],
   "source": [
    "forwardsub(A, b)"
   ]
  },
  {
   "cell_type": "code",
   "execution_count": 156,
   "id": "14052381",
   "metadata": {},
   "outputs": [
    {
     "data": {
      "text/plain": [
       "forwardsub1"
      ]
     },
     "execution_count": 156,
     "metadata": {},
     "output_type": "execute_result"
    }
   ],
   "source": [
    "\"\"\"\n",
    "forwardsub(L,b)\n",
    "\n",
    "Solve the lower-triangular linear system with matrix `L` and\n",
    "right-hand side vector `b`.\n",
    "\"\"\"\n",
    "function forwardsub1(L,b)\n",
    "\n",
    "n = size(L,1)\n",
    "x = zeros(n)\n",
    "x[1] = b[1]/L[1,1]\n",
    "for i = 2:n\n",
    "    s = sum( L[i,j]*x[j] for j=1:i-1 )\n",
    "    x[i] = ( b[i] - s ) / L[i,i]\n",
    "end\n",
    "\n",
    "return x\n",
    "end"
   ]
  },
  {
   "cell_type": "code",
   "execution_count": 157,
   "id": "3779455a",
   "metadata": {},
   "outputs": [
    {
     "data": {
      "text/plain": [
       "3-element Vector{Float64}:\n",
       "  0.5\n",
       "  0.5\n",
       " -6.0"
      ]
     },
     "execution_count": 157,
     "metadata": {},
     "output_type": "execute_result"
    }
   ],
   "source": [
    "forwardsub1(A, b)"
   ]
  },
  {
   "cell_type": "markdown",
   "id": "deac5c77",
   "metadata": {},
   "source": [
    "### Backward substitution to solve an upper-triangular linear system"
   ]
  },
  {
   "cell_type": "code",
   "execution_count": 144,
   "id": "395734fa",
   "metadata": {},
   "outputs": [
    {
     "data": {
      "text/plain": [
       "backsub"
      ]
     },
     "execution_count": 144,
     "metadata": {},
     "output_type": "execute_result"
    }
   ],
   "source": [
    "\"\"\"\n",
    "backsub(U,b)\n",
    "\n",
    "Solve the upper-triangular linear system with matrix `U` and\n",
    "right-hand side vector `b`.\n",
    "\"\"\"\n",
    "function backsub(U,b)\n",
    "\n",
    "n = size(U,1)\n",
    "x = zeros(n)\n",
    "x[n] = b[n]/U[n,n]\n",
    "for i = n-1:-1:1\n",
    "    s = sum( U[i,j]*x[j] for j=i+1:n )\n",
    "    x[i] = ( b[i] - s ) / U[i,i]\n",
    "end\n",
    "\n",
    "return x\n",
    "end"
   ]
  },
  {
   "cell_type": "code",
   "execution_count": 145,
   "id": "cb54044e",
   "metadata": {},
   "outputs": [
    {
     "data": {
      "text/plain": [
       "3-element Vector{Float64}:\n",
       "  1.0\n",
       "  0.0\n",
       " -2.0"
      ]
     },
     "execution_count": 145,
     "metadata": {},
     "output_type": "execute_result"
    }
   ],
   "source": [
    "U = [3 2 1; 0 1 -1; 0 0 2];\n",
    "b = [1; 2; -4];\n",
    "\n",
    "\n",
    "backsub(U, b)"
   ]
  },
  {
   "cell_type": "code",
   "execution_count": null,
   "id": "e84121a3",
   "metadata": {},
   "outputs": [],
   "source": []
  }
 ],
 "metadata": {
  "kernelspec": {
   "display_name": "Julia 1.8.2",
   "language": "julia",
   "name": "julia-1.8"
  },
  "language_info": {
   "file_extension": ".jl",
   "mimetype": "application/julia",
   "name": "julia",
   "version": "1.8.2"
  }
 },
 "nbformat": 4,
 "nbformat_minor": 5
}

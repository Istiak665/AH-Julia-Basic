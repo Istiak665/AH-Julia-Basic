{
 "cells": [
  {
   "cell_type": "markdown",
   "id": "6f2f8916",
   "metadata": {},
   "source": [
    "### For Loops"
   ]
  },
  {
   "cell_type": "code",
   "execution_count": 1,
   "id": "d9fbac79",
   "metadata": {},
   "outputs": [
    {
     "data": {
      "text/plain": [
       "3×3 Matrix{Int64}:\n",
       " 1  8  2\n",
       " 0  3  7\n",
       " 6  2  9"
      ]
     },
     "execution_count": 1,
     "metadata": {},
     "output_type": "execute_result"
    }
   ],
   "source": [
    "# Declare a 3-by-3 matrix\n",
    "A = [1 8 2; 0 3 7; 6 2 9]"
   ]
  },
  {
   "cell_type": "markdown",
   "id": "2c1b60b8",
   "metadata": {},
   "source": [
    "### The terms A[k,k] of a matrix A, where the row number and column number are the same, are called the primary diagonal of the matrix"
   ]
  },
  {
   "cell_type": "code",
   "execution_count": 2,
   "id": "2afa13f2",
   "metadata": {},
   "outputs": [
    {
     "data": {
      "text/plain": [
       "13"
      ]
     },
     "execution_count": 2,
     "metadata": {},
     "output_type": "execute_result"
    }
   ],
   "source": [
    "# Compute the sum of the entries on the primary diagonal of A\n",
    "sums = A[1, 1] + A[2, 2] + A[3, 3]"
   ]
  },
  {
   "cell_type": "code",
   "execution_count": 3,
   "id": "954665d8",
   "metadata": {},
   "outputs": [
    {
     "data": {
      "text/plain": [
       "5×5 Matrix{Int64}:\n",
       " 2  7  3  4  1\n",
       " 9  1  0  3  2\n",
       " 7  4  9  2  0\n",
       " 1  7  6  4  2\n",
       " 7  4  9  5  8"
      ]
     },
     "execution_count": 3,
     "metadata": {},
     "output_type": "execute_result"
    }
   ],
   "source": [
    "# Declare a 5-by-5 matrix\n",
    "A = [2 7 3 4 1; 9 1 0 3 2; 7 4 9 2 0; 1 7 6 4 2; 7 4 9 5 8]"
   ]
  },
  {
   "cell_type": "code",
   "execution_count": 4,
   "id": "09ba0dea",
   "metadata": {},
   "outputs": [
    {
     "data": {
      "text/plain": [
       "24"
      ]
     },
     "execution_count": 4,
     "metadata": {},
     "output_type": "execute_result"
    }
   ],
   "source": [
    "#  Compute the sum of the entries on the primary diagonal of A\n",
    "sums = A[1, 1] + A[2, 2] + A[3, 3] + A[4, 4] + A[5, 5]"
   ]
  },
  {
   "cell_type": "markdown",
   "id": "13a82929",
   "metadata": {},
   "source": [
    "You may have noticed that the way we compute the sum of matrix diagonals can work for a small matrix. But what about a large matrix, say 100-by-100? It will be exhausting to index them manually. We program for a reason: to automate the computations! So what we can do?\n",
    "\n",
    "To compute the sum of the entries on the primary diagonal, we need to index each element one by one. I am sure that you also noticed that there is a pattern in the indices: For a 3-by-3 matrix, the index starts from 1 and goes to 3; For a 5-by-5 matrix, the index is from 1 to 5, which is the size of the matrix.\n",
    "\n",
    "We can use a for loop to automate this process.\n",
    "\n",
    "For loops are used to iterate over a set of values and perform a set of operations that are given in the body of the loop. The syntax of foor loop in Julia is as follows:\n",
    "\n",
    "```\n",
    "for iterator in range\n",
    "    statements to do stuff\n",
    "end\n",
    "```\n",
    "\n",
    "Here, ```for``` is the keyword starting the for loop, the keyword ```in``` is used to define a range in which to iterate, the keyword ```end``` is used to denote the end of the for loop.\n",
    "\n",
    "Let's see a few examples."
   ]
  },
  {
   "cell_type": "code",
   "execution_count": 5,
   "id": "f9ca29cc",
   "metadata": {},
   "outputs": [
    {
     "name": "stdout",
     "output_type": "stream",
     "text": [
      "1\n",
      "2\n",
      "3\n",
      "4\n",
      "5\n",
      "6\n",
      "7\n",
      "8\n",
      "9\n",
      "10\n"
     ]
    }
   ],
   "source": [
    "# Print the numbers from 1 to 10\n",
    "for k in 1:10\n",
    "    println(k)\n",
    "end"
   ]
  },
  {
   "cell_type": "markdown",
   "id": "ddd8ba54",
   "metadata": {},
   "source": [
    "If the range is defined as a set of numbers, the following syntax is also valid:\n",
    "\n",
    "```\n",
    "for iterator = start:step:stop\n",
    "    statements to do stuff\n",
    "end\n",
    "```\n",
    "\n",
    "Here, ```start:step:stop``` will return a list of numbers from ```start``` to ```stop``` with a step size of ```step```. Note the ```start``` and ```stop``` are inclusively considered....which simply that the iterator is always between or equal to the upper and lower bounds."
   ]
  },
  {
   "cell_type": "code",
   "execution_count": 6,
   "id": "37b16a06",
   "metadata": {},
   "outputs": [
    {
     "name": "stdout",
     "output_type": "stream",
     "text": [
      "2\n",
      "4\n",
      "6\n",
      "8\n",
      "10\n",
      "12\n",
      "14\n",
      "16\n",
      "18\n",
      "20\n"
     ]
    }
   ],
   "source": [
    "# Print the even numbers from 2 to 20\n",
    "for k = 2:2:20\n",
    "    println(k)\n",
    "end"
   ]
  },
  {
   "cell_type": "markdown",
   "id": "84f425d5",
   "metadata": {},
   "source": [
    "**Another thing worth noting is that the ```step``` can be negative.** It just means that the iterator is decreasing."
   ]
  },
  {
   "cell_type": "code",
   "execution_count": 7,
   "id": "70928215",
   "metadata": {},
   "outputs": [
    {
     "name": "stdout",
     "output_type": "stream",
     "text": [
      "5\n",
      "4\n",
      "3\n",
      "2\n",
      "1\n"
     ]
    }
   ],
   "source": [
    "# Print the numbers from 5 to 1\n",
    "for k = 5:-1:1\n",
    "    println(k)\n",
    "end"
   ]
  },
  {
   "cell_type": "markdown",
   "id": "a8290e2c",
   "metadata": {},
   "source": [
    "Okay, let's re-think of the previous problem of matrix diagonals summation."
   ]
  },
  {
   "cell_type": "code",
   "execution_count": 8,
   "id": "0409b44e",
   "metadata": {},
   "outputs": [
    {
     "data": {
      "text/plain": [
       "30×30 Matrix{Float64}:\n",
       " 0.579862   0.00543656  0.126386  …  0.571334   0.328323   0.673974\n",
       " 0.411294   0.698478    0.965243     0.124163   0.349247   0.245734\n",
       " 0.972136   0.349231    0.515818     0.587931   0.793972   0.316147\n",
       " 0.0149088  0.91097     0.488476     0.321161   0.0952038  0.585489\n",
       " 0.520355   0.973653    0.527837     0.531414   0.665992   0.852246\n",
       " 0.639562   0.76066     0.917137  …  0.59433    0.799811   0.580852\n",
       " 0.839622   0.488912    0.706951     0.290677   0.171014   0.183946\n",
       " 0.967143   0.362643    0.753203     0.855815   0.689584   0.202328\n",
       " 0.789764   0.708738    0.573645     0.555287   0.270649   0.488165\n",
       " 0.696041   0.656694    0.731872     0.861586   0.480495   0.988048\n",
       " 0.566704   0.173863    0.829076  …  0.711169   0.745688   0.405814\n",
       " 0.536369   0.69736     0.892646     0.698374   0.0675589  0.661413\n",
       " 0.711389   0.191723    0.806471     0.599969   0.661991   0.520162\n",
       " ⋮                                ⋱                        \n",
       " 0.715355   0.0177509   0.994935     0.297332   0.155305   0.774945\n",
       " 0.939548   0.774975    0.77916      0.365169   0.527729   0.591365\n",
       " 0.526344   0.216467    0.587688  …  0.841273   0.179544   0.229566\n",
       " 0.0779683  0.514119    0.381363     0.566666   0.606252   0.808455\n",
       " 0.966197   0.652465    0.42562      0.22972    0.706679   0.901708\n",
       " 0.666558   0.895855    0.661096     0.175631   0.104724   0.130924\n",
       " 0.333859   0.688344    0.195737     0.796953   0.578079   0.550256\n",
       " 0.802199   0.661561    0.811324  …  0.351131   0.889768   0.819181\n",
       " 0.156458   0.752155    0.594965     0.0457602  0.488776   0.131026\n",
       " 0.380799   0.869142    0.270995     0.807679   0.486645   0.946453\n",
       " 0.0687591  0.679021    0.566878     0.926269   0.209923   0.574323\n",
       " 0.861725   0.999183    0.607905     0.319058   0.928159   0.67765"
      ]
     },
     "execution_count": 8,
     "metadata": {},
     "output_type": "execute_result"
    }
   ],
   "source": [
    "# Declare a 30-by-30 random matrix\n",
    "using Random # Using an external pacakge called Random which provides functions\n",
    "Random.seed!(1234) # Set the seed to make sure each time you run the cell you get the same results \n",
    "# so that we can grade them\n",
    "A = rand(30, 30)"
   ]
  },
  {
   "cell_type": "code",
   "execution_count": 9,
   "id": "1c72783d",
   "metadata": {},
   "outputs": [
    {
     "name": "stdout",
     "output_type": "stream",
     "text": [
      "15.828121297692357\n"
     ]
    }
   ],
   "source": [
    "# Compute the sum of the entries on the primary diagonal\n",
    "sums = 0 # Initialize sum as 0\n",
    "for k = 1:30\n",
    "    sums = sums + A[k, k]\n",
    "end\n",
    "println(sums)"
   ]
  },
  {
   "cell_type": "markdown",
   "id": "1647f126",
   "metadata": {},
   "source": [
    "For loops can be nested when more than one for loop is needed."
   ]
  },
  {
   "cell_type": "code",
   "execution_count": 10,
   "id": "ef9d1046",
   "metadata": {},
   "outputs": [
    {
     "data": {
      "text/plain": [
       "3×3 Matrix{Int64}:\n",
       " 1  2  3\n",
       " 4  5  6\n",
       " 7  8  9"
      ]
     },
     "execution_count": 10,
     "metadata": {},
     "output_type": "execute_result"
    }
   ],
   "source": [
    "# Declare a 3-by-3 matrix\n",
    "A = [1 2 3; 4 5 6; 7 8 9]"
   ]
  },
  {
   "cell_type": "code",
   "execution_count": 31,
   "id": "8caa0db2",
   "metadata": {},
   "outputs": [
    {
     "name": "stdout",
     "output_type": "stream",
     "text": [
      "1\n",
      "5\n",
      "1\n",
      "7\n",
      "8\n",
      "9\n"
     ]
    }
   ],
   "source": [
    "# Print all the numbers on and below the matrix primary diagonal\n",
    "for i = 1:3\n",
    "    for j = 1:i\n",
    "        println(A[i,j])\n",
    "    end\n",
    "end"
   ]
  },
  {
   "cell_type": "code",
   "execution_count": 12,
   "id": "dded36fa",
   "metadata": {},
   "outputs": [
    {
     "data": {
      "text/plain": [
       "10×10 Matrix{Float64}:\n",
       " 0.579862   0.566704  0.526344   0.00543656  …  0.829076  0.587688  0.850302\n",
       " 0.411294   0.536369  0.0779683  0.698478       0.892646  0.381363  0.124847\n",
       " 0.972136   0.711389  0.966197   0.349231       0.806471  0.42562   0.993609\n",
       " 0.0149088  0.103929  0.666558   0.91097        0.011625  0.661096  0.0686571\n",
       " 0.520355   0.806704  0.333859   0.973653       0.249676  0.195737  0.953362\n",
       " 0.639562   0.870539  0.802199   0.76066     …  0.139687  0.811324  0.484337\n",
       " 0.839622   0.962715  0.156458   0.488912       0.180998  0.594965  0.131026\n",
       " 0.967143   0.15118   0.380799   0.362643       0.813512  0.270995  0.946453\n",
       " 0.789764   0.715355  0.0687591  0.708738       0.994935  0.566878  0.574323\n",
       " 0.696041   0.939548  0.861725   0.656694       0.77916   0.607905  0.67765"
      ]
     },
     "execution_count": 12,
     "metadata": {},
     "output_type": "execute_result"
    }
   ],
   "source": [
    "# Declare a 10-by-10 random matrix\n",
    "using Random # Using an external pacakge called Random which provides functions\n",
    "Random.seed!(1234) # Set the seed to make sure each time you get the same results\n",
    "A = rand(10, 10)"
   ]
  },
  {
   "cell_type": "code",
   "execution_count": 13,
   "id": "bd633276",
   "metadata": {},
   "outputs": [
    {
     "data": {
      "text/plain": [
       "6.84133867975218"
      ]
     },
     "execution_count": 13,
     "metadata": {},
     "output_type": "execute_result"
    }
   ],
   "source": [
    "# Compute the sum of the numbers on the matrix primary diagonal\n",
    "sums = 0\n",
    "# your code here\n",
    "for i = 1:10\n",
    "    sums += A[i,i]\n",
    "end\n",
    "sums"
   ]
  },
  {
   "cell_type": "code",
   "execution_count": 33,
   "id": "9429bdc5",
   "metadata": {},
   "outputs": [
    {
     "data": {
      "text/plain": [
       "4×4 Matrix{Int64}:\n",
       " 1  2  3  4\n",
       " 5  1  2  3\n",
       " 7  8  9  5\n",
       " 3  1  2  4"
      ]
     },
     "execution_count": 33,
     "metadata": {},
     "output_type": "execute_result"
    }
   ],
   "source": [
    "#Example\n",
    "B=[1 2 3 4; 5 1 2 3; 7 8 9 5; 3 1 2 4]"
   ]
  },
  {
   "cell_type": "code",
   "execution_count": 34,
   "id": "3f46247f",
   "metadata": {},
   "outputs": [
    {
     "data": {
      "text/plain": [
       "34"
      ]
     },
     "execution_count": 34,
     "metadata": {},
     "output_type": "execute_result"
    }
   ],
   "source": [
    "# Compute the sum of the numbers on and above the matrix primary diagonal\n",
    "sums = 0\n",
    "# your code here\n",
    "for i in 1:4\n",
    "    for j in i:4\n",
    "        sums += B[i,j]\n",
    "    end\n",
    "end\n",
    "sums"
   ]
  },
  {
   "cell_type": "markdown",
   "id": "cb678272",
   "metadata": {},
   "source": [
    "# Loop inside Loop"
   ]
  },
  {
   "cell_type": "markdown",
   "id": "47ae58ba",
   "metadata": {},
   "source": [
    "### Task1: Print all number diagonal and below diagonal"
   ]
  },
  {
   "cell_type": "code",
   "execution_count": 41,
   "id": "7073f929",
   "metadata": {},
   "outputs": [
    {
     "data": {
      "text/plain": [
       "3×3 Matrix{Int64}:\n",
       " 1  2  3\n",
       " 4  5  6\n",
       " 7  8  9"
      ]
     },
     "execution_count": 41,
     "metadata": {},
     "output_type": "execute_result"
    }
   ],
   "source": [
    "C = [1 2 3; 4 5 6; 7 8 9]"
   ]
  },
  {
   "cell_type": "markdown",
   "id": "e0150101",
   "metadata": {},
   "source": [
    "```\n",
    "\n",
    "Here the matrix have 3 row\n",
    "So we can index\n",
    "\n",
    "for i = 1:3\n",
    "    for j = 1:i\n",
    "        \n",
    "        #Step1: when i = 1 then j =1\n",
    "        C[i, j] = C[1, 1] = 1\n",
    "        \n",
    "        #Step2: when i = 2 then j = 1:2\n",
    "        In here two combinition we will get\n",
    "        \n",
    "        C[i, j] = C[2, 1] = 4\n",
    "        C[i, j] = C[2, 2] = 5\n",
    "        \n",
    "        #Step3: when i = 3 then j = 1:3\n",
    "        In here three combinition we will get\n",
    "        \n",
    "        C[i, j] = C[3, 1] = 7\n",
    "        C[i, j] = C[3, 2] = 8\n",
    "        C[i, j] = C[3, 3] = 9\n",
    "        \n",
    "```"
   ]
  },
  {
   "cell_type": "markdown",
   "id": "db33475d",
   "metadata": {},
   "source": [
    "### Let's check the code now"
   ]
  },
  {
   "cell_type": "code",
   "execution_count": 44,
   "id": "f5471894",
   "metadata": {},
   "outputs": [
    {
     "name": "stdout",
     "output_type": "stream",
     "text": [
      "1\n",
      "4\n",
      "5\n",
      "7\n",
      "8\n",
      "9\n"
     ]
    }
   ],
   "source": [
    "# Print all the numbers on and below the matrix primary diagonal\n",
    "for i = 1:3\n",
    "    for j = 1:i\n",
    "        println(C[i,j])\n",
    "    end\n",
    "end"
   ]
  },
  {
   "cell_type": "markdown",
   "id": "2cc2cc69",
   "metadata": {},
   "source": [
    "### Task2: Print all number diagonal and above diagonal"
   ]
  },
  {
   "cell_type": "code",
   "execution_count": 45,
   "id": "91eb2ea3",
   "metadata": {},
   "outputs": [
    {
     "data": {
      "text/plain": [
       "3×3 Matrix{Int64}:\n",
       " 1  2  3\n",
       " 4  5  6\n",
       " 7  8  9"
      ]
     },
     "execution_count": 45,
     "metadata": {},
     "output_type": "execute_result"
    }
   ],
   "source": [
    "C = [1 2 3; 4 5 6; 7 8 9]"
   ]
  },
  {
   "cell_type": "markdown",
   "id": "59e9c179",
   "metadata": {},
   "source": [
    "```\n",
    "Here the matrix have 3 row\n",
    "So we can index\n",
    "\n",
    "\n",
    "for i = 1:3\n",
    "    for j = i:3\n",
    "        \n",
    "        #Step1: when i = 1 then j = 1:3\n",
    "        In here we will get three number\n",
    "        \n",
    "        C[i, j] = C[1, 1] = 1\n",
    "        C[i, j] = C[1, 2] = 2\n",
    "        C[i, j] = C[1, 3] = 3\n",
    "        \n",
    "        #Step2: when i = 2 then j = 2:3\n",
    "        In here two combinition we will get\n",
    "        \n",
    "        C[i, j] = C[2, 2] = 5\n",
    "        C[i, j] = C[2, 3] = 6\n",
    "        \n",
    "        #Step3: when i = 3 then j = 3:3\n",
    "        In here three combinition we will get\n",
    "        \n",
    "        C[i, j] = C[3, 3] = 9\n",
    "        \n",
    "```"
   ]
  },
  {
   "cell_type": "markdown",
   "id": "f71ef157",
   "metadata": {},
   "source": [
    "### Let's check the code now"
   ]
  },
  {
   "cell_type": "code",
   "execution_count": 46,
   "id": "dbb9a890",
   "metadata": {},
   "outputs": [
    {
     "name": "stdout",
     "output_type": "stream",
     "text": [
      "1\n",
      "2\n",
      "3\n",
      "5\n",
      "6\n",
      "9\n"
     ]
    }
   ],
   "source": [
    "# Print all the numbers on and ABOVE the matrix primary diagonal\n",
    "for i = 1:3\n",
    "    for j = i:3\n",
    "        println(C[i,j])\n",
    "    end\n",
    "end"
   ]
  },
  {
   "cell_type": "markdown",
   "id": "f3c902c1",
   "metadata": {},
   "source": [
    "### Task3: Print the sum of the all number diagonal and below diagonal"
   ]
  },
  {
   "cell_type": "code",
   "execution_count": 47,
   "id": "acf954f7",
   "metadata": {},
   "outputs": [
    {
     "data": {
      "text/plain": [
       "34"
      ]
     },
     "execution_count": 47,
     "metadata": {},
     "output_type": "execute_result"
    }
   ],
   "source": [
    "# Print the sum on and below the matrix primary diagonal\n",
    "sum = 0\n",
    "for i = 1:3\n",
    "    for j = 1:i\n",
    "        sum += C[i,j]\n",
    "    end\n",
    "end\n",
    "\n",
    "sum"
   ]
  },
  {
   "cell_type": "markdown",
   "id": "5803c185",
   "metadata": {},
   "source": [
    "### Task4: Print the sum of the all number diagonal and above diagonal"
   ]
  },
  {
   "cell_type": "code",
   "execution_count": 48,
   "id": "dfc354b3",
   "metadata": {},
   "outputs": [
    {
     "data": {
      "text/plain": [
       "26"
      ]
     },
     "execution_count": 48,
     "metadata": {},
     "output_type": "execute_result"
    }
   ],
   "source": [
    "# Print the sum on and above the matrix primary diagonal\n",
    "sum = 0\n",
    "for i = 1:3\n",
    "    for j = i:3\n",
    "        sum += C[i,j]\n",
    "    end\n",
    "end\n",
    "\n",
    "sum"
   ]
  }
 ],
 "metadata": {
  "kernelspec": {
   "display_name": "Julia 1.8.2",
   "language": "julia",
   "name": "julia-1.8"
  },
  "language_info": {
   "file_extension": ".jl",
   "mimetype": "application/julia",
   "name": "julia",
   "version": "1.8.2"
  }
 },
 "nbformat": 4,
 "nbformat_minor": 5
}
